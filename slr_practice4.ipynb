{
 "cells": [
  {
   "cell_type": "markdown",
   "id": "d7f0f04d-d56d-4157-aa4f-4e482ee4b8cd",
   "metadata": {},
   "source": [
    "# Basit Doğrusal Regresyon - Model Tuning - Model Doğrulama"
   ]
  },
  {
   "cell_type": "markdown",
   "id": "5cfda17f-c7c6-4d6b-a082-337d8d0b6b02",
   "metadata": {},
   "source": [
    "### Bir öğrenci, bir sınav için çalışma saatlerini ve aldığı notları kaydediyor. Öğrenci, kaç saat çalıştığını kaydederek çalışma süresi ve sınav notu arasındaki ilişkiyi incelemek istiyor. Öğrencinin verilerini kullanarak bir doğrusal regresyon modeli oluşturacak ve modelin performansını doğrulayacak."
   ]
  },
  {
   "cell_type": "code",
   "execution_count": 1,
   "id": "5fe0ce43-d5d4-4593-92dd-faa077fe9b94",
   "metadata": {},
   "outputs": [],
   "source": [
    "import pandas as pd\n",
    "import numpy as np\n",
    "import matplotlib.pyplot as plt\n",
    "from sklearn.linear_model import LinearRegression\n",
    "from sklearn.model_selection import train_test_split, GridSearchCV, cross_val_score"
   ]
  },
  {
   "cell_type": "code",
   "execution_count": 2,
   "id": "12bbae6e-77f8-45e3-9fb7-b0c2dd357d93",
   "metadata": {},
   "outputs": [
    {
     "data": {
      "text/html": [
       "<div>\n",
       "<style scoped>\n",
       "    .dataframe tbody tr th:only-of-type {\n",
       "        vertical-align: middle;\n",
       "    }\n",
       "\n",
       "    .dataframe tbody tr th {\n",
       "        vertical-align: top;\n",
       "    }\n",
       "\n",
       "    .dataframe thead th {\n",
       "        text-align: right;\n",
       "    }\n",
       "</style>\n",
       "<table border=\"1\" class=\"dataframe\">\n",
       "  <thead>\n",
       "    <tr style=\"text-align: right;\">\n",
       "      <th></th>\n",
       "      <th>saat</th>\n",
       "      <th>not</th>\n",
       "    </tr>\n",
       "  </thead>\n",
       "  <tbody>\n",
       "    <tr>\n",
       "      <th>0</th>\n",
       "      <td>2</td>\n",
       "      <td>65</td>\n",
       "    </tr>\n",
       "    <tr>\n",
       "      <th>1</th>\n",
       "      <td>3</td>\n",
       "      <td>70</td>\n",
       "    </tr>\n",
       "    <tr>\n",
       "      <th>2</th>\n",
       "      <td>4</td>\n",
       "      <td>75</td>\n",
       "    </tr>\n",
       "    <tr>\n",
       "      <th>3</th>\n",
       "      <td>5</td>\n",
       "      <td>80</td>\n",
       "    </tr>\n",
       "    <tr>\n",
       "      <th>4</th>\n",
       "      <td>6</td>\n",
       "      <td>85</td>\n",
       "    </tr>\n",
       "  </tbody>\n",
       "</table>\n",
       "</div>"
      ],
      "text/plain": [
       "   saat  not\n",
       "0     2   65\n",
       "1     3   70\n",
       "2     4   75\n",
       "3     5   80\n",
       "4     6   85"
      ]
     },
     "execution_count": 2,
     "metadata": {},
     "output_type": "execute_result"
    }
   ],
   "source": [
    "# veri setini oluşturalım.\n",
    "\n",
    "data = {\n",
    "    'saat': [2, 3, 4, 5, 6, 7, 8, 9],\n",
    "    'not':  [65, 70, 75, 80, 85, 90, 95, 100]\n",
    "}\n",
    "\n",
    "df = pd.DataFrame(data)\n",
    "df.head()"
   ]
  },
  {
   "cell_type": "code",
   "execution_count": 5,
   "id": "ef3ad577-07ea-4771-b332-3f5d0e4ab1eb",
   "metadata": {},
   "outputs": [
    {
     "data": {
      "image/png": "[encoded data removed]",
      "text/plain": [
       "<Figure size 432x288 with 1 Axes>"
      ]
     },
     "metadata": {
      "needs_background": "light"
     },
     "output_type": "display_data"
    }
   ],
   "source": [
    "# veri setimizi görselleştirelim.\n",
    "\n",
    "plt.scatter(df['saat'], df['not'])\n",
    "plt.xlabel('Çalışma Süresi (Saat)')\n",
    "plt.ylabel('Sınav Notu')\n",
    "plt.show()"
   ]
  },
  {
   "cell_type": "code",
   "execution_count": 6,
   "id": "3e70a7a3-f4ac-4c14-9095-f553d840fe1f",
   "metadata": {},
   "outputs": [],
   "source": [
    "# bağımlı ve bağımsız değişkenlerimizi oluşturalım.\n",
    "\n",
    "X = df['saat'].values.reshape(-1, 1)\n",
    "y = df['not'].values.reshape(-1, 1)"
   ]
  },
  {
   "cell_type": "code",
   "execution_count": 7,
   "id": "5da65813-26fc-4e0a-ad69-dad8350f4d0c",
   "metadata": {},
   "outputs": [],
   "source": [
    "# eğitim ve test setlerini ayıralım.\n",
    "\n",
    "X_train, X_test, y_train, y_test = train_test_split(X, y, test_size=0.2, random_state=0)"
   ]
  },
  {
   "cell_type": "code",
   "execution_count": 8,
   "id": "284fad11-95ba-4497-a204-380f152aee91",
   "metadata": {},
   "outputs": [
    {
     "data": {
      "text/plain": [
       "LinearRegression()"
      ]
     },
     "execution_count": 8,
     "metadata": {},
     "output_type": "execute_result"
    }
   ],
   "source": [
    "# modelimizi oluşturalım ve eğitelim.\n",
    "\n",
    "model = LinearRegression()\n",
    "model.fit(X_train, y_train)"
   ]
  },
  {
   "cell_type": "code",
   "execution_count": 12,
   "id": "89b4055c-8bd3-495d-a7a5-e27774c7732c",
   "metadata": {},
   "outputs": [
    {
     "data": {
      "text/plain": [
       "array([[95.],\n",
       "       [75.]])"
      ]
     },
     "execution_count": 12,
     "metadata": {},
     "output_type": "execute_result"
    }
   ],
   "source": [
    "y_pred = model.predict(X_test)\n",
    "y_pred"
   ]
  },
  {
   "cell_type": "code",
   "execution_count": 14,
   "id": "e0f7952e-60c0-4c02-88ed-3144a9b2a3ac",
   "metadata": {},
   "outputs": [
    {
     "name": "stdout",
     "output_type": "stream",
     "text": [
      "R-kare değeri:  1.0\n"
     ]
    }
   ],
   "source": [
    "r2_score = model.score(X_test, y_test)\n",
    "print('R-kare değeri: ', r2_score)"
   ]
  },
  {
   "cell_type": "markdown",
   "id": "73a7b59e-6900-4feb-9a22-612b67cd03fa",
   "metadata": {},
   "source": [
    "#### Bu senoryada R-kare değerine de bakılarak model tuning ve model doğrulama işlemlerinin yapılmasına gerek yok."
   ]
  }
 ],
 "metadata": {
  "kernelspec": {
   "display_name": "Python 3 (ipykernel)",
   "language": "python",
   "name": "python3"
  },
  "language_info": {
   "codemirror_mode": {
    "name": "ipython",
    "version": 3
   },
   "file_extension": ".py",
   "mimetype": "text/x-python",
   "name": "python",
   "nbconvert_exporter": "python",
   "pygments_lexer": "ipython3",
   "version": "3.9.12"
  }
 },
 "nbformat": 4,
 "nbformat_minor": 5
}
